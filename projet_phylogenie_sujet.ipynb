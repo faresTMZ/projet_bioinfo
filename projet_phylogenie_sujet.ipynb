{
 "cells": [
  {
   "cell_type": "markdown",
   "metadata": {},
   "source": [
    "# Projet phylogénétique\n",
    "Marine Djaffardjy (marine.djaffardjy@u-psud.fr)- Théophile Sanchez - Sarah Cohen Boulakia\n",
    "\n",
    "------\n",
    "\n",
    "## Introduction\n",
    "\n",
    "Au cours de ce projet, vous étudierez trois espèces disparues de félins qui vivaient autrefois sur le continent Américain. Ces trois espèces, le _smilodon_ (tigre à dents de sabre), l'_homotherium_ (_scimitar toothed tigers_) et _M. trumani_ (guépard américain) se sont éteintes il y a environ 13 000 ans, à la fin de la dernière période glaciaire. Des séquences ADN partielles de la protéine cytochrome b de ces espèces ont pu être séquencées et vont vous permettre de retrouver les liens de parentés entre ces espèces et des espèces de félins contemporaines : le chat domestique, le lion, le léopard, le tigre, le puma, le guépard et les chats sauvages africains, chinois et européens. Sont aussi présentes dans le jeu de donnée des séquences issues d'espèces extérieures aux félins.\n",
    "\n",
    "Afin de reconstruire l'arbre phylogénétique de ces espèces, vous utiliserez une méthode basée sur le calcul des distances évolutives entre les séquences ADN des protéines. Sachez qu'une démarche similaire peut-être appliquée aux séquences d'acides aminés.\n",
    "\n",
    "Les différentes étapes qui vous permetterons de construire l'arbre sont détaillées dans ce notebook. Vous devrez implémenter les algorithmes en Python et répondre aux questions dans les cellules prévues.\n",
    "\n",
    "Quelques conseils :\n",
    "- Utiliser au maximum les fonctions présentes dans les packages de python (sauf si il vous est explicitement demandé de les réimplémenter). Si un problème vous paraît courant, il existe surement déjà une fonction pour le résoudre. Pour ce projet vous serez limités aux packages de base, à Numpy et ETE (seulement pour l'affichage des arbres). Vous n'avez pas besoin d'utiliser d'autre packages (pas de pandas).\n",
    "- Si une partie de votre code ne vous semble pas très explicite, ajoutez des commentaires pour l'expliquer. Une personne qui lit votre code doit pouvoir comprendre son fonctionnement facilement.\n",
    "- Faites des fonctions d'affichage pour vos matrices !!\n",
    "- N'hésitez pas à chercher dans la documentation et sur internet. Cependant, faites attention au plagiat !\n",
    "\n",
    "Le projet est à rendre **en binôme** par mail. Vous regrouperez votre notebook et les fichiers nécessaires à son fonctionnement dans une archive portant vos noms et prénoms (il faut que je puisse faire tourner les notebooks)."
   ]
  },
  {
   "cell_type": "markdown",
   "metadata": {},
   "source": [
    "------\n",
    "## Importation des séquences\n",
    "\n",
    "Le format [FASTA](https://fr.wikipedia.org/wiki/FASTA_(format_de_fichier) permet de stocker plusieurs séquences (ADN, ARN ou peptidiques) dans un fichier. Les séquences que vous allez étudier ont été regroupées dans le fichier `cat_dna.fasta`.\n",
    "\n",
    "**Exercice 1 :** Écrivez une fonction permettant d'importer un fichier au format fasta et de le stocker dans un dictionnaire `seq_cat`. Les clés seront les noms des séquences et les valeurs du dictionnaire seront les séquences d'adn.\n",
    "Exportez le dictionnaire obtenu dans un fichier `output/dict_seq.json`."
   ]
  },
  {
   "cell_type": "code",
   "execution_count": 4,
   "metadata": {},
   "outputs": [],
   "source": [
    "import sys, re\n",
    "import json\n",
    "f = open('./input/cat_dna.fasta','r')\n",
    "lines = f.readlines()\n",
    "seq_cat = {}\n",
    "hre = re.compile('>(\\S+)')\n",
    "lre = re.compile('^(\\S+)$')\n",
    "\n",
    "for line in lines:\n",
    "    seq_name = hre.search(line)\n",
    "    seq_adn = lre.search(line)\n",
    "    if seq_name:\n",
    "        id=seq_name.group(1)\n",
    "    elif seq_adn:\n",
    "        if(id in seq_cat.keys()):\n",
    "            seq_cat[id] += seq_adn.group(1)\n",
    "        else:\n",
    "            seq_cat[id] = seq_adn.group(1)\n",
    "\n",
    "dict_seq = json.dumps(seq_cat)\n",
    "\n",
    "with open('./output/dict_seq.json', 'w') as f:\n",
    "    json.dump(seq_cat,f,indent=3)"
   ]
  },
  {
   "cell_type": "markdown",
   "metadata": {},
   "source": [
    "------\n",
    "## Alignement des séquences\n",
    "\n",
    "La méthode que vous utiliserez pour calculer l'arbre phylogénétique nécessite de calculer la distance évolutive entre les séquences. Avant de pouvoir les calculer, il faut d'abord aligner les séquences en considérant trois types de mutations :\n",
    "- les substitutions (un nucléotide est remplacé par un autre)\n",
    "- les insertions\n",
    "- les délétions\n",
    "Par exemple, les séquences \"ACTCCTGA\" et \"ATCTCGTGA\" ont plusieurs alignements possibles : \n",
    "\n",
    "$A_1$ :\n",
    "```\n",
    "-ACTCCTGA\n",
    "ATCTCGTGA\n",
    "```\n",
    "\n",
    "$A_2$ :\n",
    "```\n",
    "A-CTCCTGA\n",
    "ATCTCGTGA\n",
    "```\n",
    "\n",
    "$A_3$ :\n",
    "```\n",
    "AC-TCCTGA\n",
    "ATCTCGTGA\n",
    "```\n",
    ".\n",
    "\n",
    ".\n",
    "\n",
    ".\n",
    "\n",
    "Le \"-\" désigne un *gap*, c'est à dire un \"trou\" dans l'alignement qui a été causé par une insertion ou une déletion. On regroupe ces deux types de mutations sous le terme indel.\n",
    "\n",
    "Ces alignements correspondent à une multitude d'histoires phylogénétiques différentes. Pour sélectionner le meilleur alignement il faut donc introduire l'hypothèse du maximum de parcimonie qui privilégie l'histoire phylogénétique qui implique le moins d'hypothèses et donc, le moins de changements évolutifs. Par exemple, parmis les trois alignements ci-dessus on preferera l'alignement 2 car il correspond au scénario avec le moins de mutations:\n",
    "- l'alignement 1 implique au minimum 1 indel et 2 substitutions\n",
    "- l'alignement 2 implique au minimum 1 indel et 1 substitutions\n",
    "- l'alignement 3 implique au minimum 1 indel et 2 substitutions\n",
    "\n",
    "On peut maintenant définir un score d'identité que l'on va augmenter de 1 lorsque qu'il n'y pas eu de mutation et ainsi obtenir la matrice suivante :\n",
    "\n",
    "|   &nbsp;   | A | C | G | T | - |\n",
    "|   -   | - | - | - | - | - |\n",
    "| **A** | 1 | 0 | 0 | 0 | 0 |\n",
    "| **C** | 0 | 1 | 0 | 0 | 0 |\n",
    "| **G** | 0 | 0 | 1 | 0 | 0 |\n",
    "| **T** | 0 | 0 | 0 | 1 | 0 |\n",
    "| **-** | 0 | 0 | 0 | 0 | 0 |\n",
    "\n",
    "Cette matrice correspond au modèle d'évolution de l'ADN défini par Jukes et Cantor qui fait l'hypothèse d'un taux de mutation équivalent pour chacun des nucléotides. Cependant, en réalité ces taux ne sont pas les mêmes partout, on sait par exemple que le taux de transition (substitution A$\\leftrightarrow$G ou C$\\leftrightarrow$T) est différent du taux de transversions (substitution A$\\leftrightarrow$T, C$\\leftrightarrow$G, C$\\leftrightarrow$A ou G$\\leftrightarrow$T) et que d'autres facteurs devrait être pris en compte comme la fréquence du nucléotide dans l'ADN. [C'est pour cette raison qu'il existe beaucoup de modèles différents d'écrivant l'évolution de l'ADN.](https://en.wikipedia.org/wiki/Models_of_DNA_evolution) Dans la suite de ce projet nous utiliserons la matrice de similarité $S$ suivante : \n",
    "\n",
    "|   &nbsp;   | A  | C  | G  | T  | -  |\n",
    "|   -   | -  | -  | -  | -  | -  |\n",
    "| **A** | 10 | -1 | -3 | -4 | -5 |\n",
    "| **C** | -1 | 7  | -5 | -3 | -5 |\n",
    "| **G** | -3 | -5 | 9  | 0  | -5 |\n",
    "| **T** | -4 | -3 | 0  | 8  | -5 |\n",
    "| **-** | -5 | -5 | -5 | -5 | 0  |\n",
    "\n",
    "**Exercice 2 :** Écriver la fonction permettant de calculer le score entre deux alignements avec la matrice de similarité précédente puis afficher le score des trois alignements $A_1$, $A_2$ et $A_3$. La classe permettant d'importer une matrice et de calculer le score entre deux lettres vous est déjà fournie, la matrice de similarité est stockée dans le fichier `dna_matrix` :\n"
   ]
  },
  {
   "cell_type": "code",
   "execution_count": 3,
   "metadata": {},
   "outputs": [
    {
     "name": "stdout",
     "output_type": "stream",
     "text": [
      "Score between G and C: -5.0\n",
      "Score between A and a gap: -5.0\n"
     ]
    }
   ],
   "source": [
    "import numpy as np\n",
    "\n",
    "\n",
    "class SimilarityMatrix:\n",
    "    def __init__(self, filename):\n",
    "        with open(filename) as f:\n",
    "            self.letters = f.readline().split()\n",
    "            self.values = np.loadtxt(filename, skiprows=1, usecols=range(1, len(self.letters) + 1))\n",
    "    \n",
    "    # return the similarity score between letter1 and letter2\n",
    "    def score(self, letter1, letter2):\n",
    "        return self.values[self.letters.index(letter1)][self.letters.index(letter2)]\n",
    "    \n",
    "# Example\n",
    "similarity_matrix = SimilarityMatrix('input/dna_matrix')\n",
    "print('Score between G and C:', similarity_matrix.score('G', 'C'))\n",
    "print('Score between A and a gap:', similarity_matrix.score('-', 'A'))"
   ]
  },
  {
   "cell_type": "code",
   "execution_count": 5,
   "metadata": {},
   "outputs": [
    {
     "name": "stdout",
     "output_type": "stream",
     "text": [
      "Score of A1 is :  35.0\n",
      "Score of A2 is :  49.0\n",
      "Score of A3 is :  39.0\n"
     ]
    }
   ],
   "source": [
    "def alignement_score(seq1, seq2):\n",
    "    similarity_matrix = SimilarityMatrix('input/dna_matrix')\n",
    "    score = 0\n",
    "    for i in range(len(seq1)):\n",
    "        score += similarity_matrix.score(seq1[i],seq2[i])\n",
    "    return score\n",
    "\n",
    "A1 = [\"-ACTCCTGA\",\"ATCTCGTGA\"]\n",
    "A2 = [\"A-CTCCTGA\",\"ATCTCGTGA\"]\n",
    "A3 = [\"AC-TCCTGA\",\"ATCTCGTGA\"]\n",
    "\n",
    "print(\"Score of A1 is : \", alignement_score(A1[0], A1[1]))\n",
    "print(\"Score of A2 is : \", alignement_score(A2[0], A2[1]))\n",
    "print(\"Score of A3 is : \", alignement_score(A3[0], A3[1]))"
   ]
  },
  {
   "cell_type": "markdown",
   "metadata": {},
   "source": [
    "------\n",
    "### Algorithme de Needleman-Wunsch\n",
    "\n",
    "Maintenant que vous avez vu ce qu'est une matrice de similarité et comment calculer le score de similarité d'un alignement, vous allez devoir implémenter un algorithme permettant de trouver le meilleur alignement global entre deux séquences. Avec deux séquences à aligner de taille $n$ et $m$, la première étape consiste à initialiser deux matrices de taille $(n+1) \\times (m+1)$. La première est la matrice de score $M$ et la seconde sera la matrice de *traceback* $T$. \n",
    "\n",
    "Par exemple, avec la matrice $S$ et les séquences $A =$ \"ACTCCTGA\" et $B =$ \"ATCTCGTGA\", on initialise $M$ comme si l'on ajoutait des *gaps* partout :\n",
    "\n",
    "|   &nbsp;   | - | A | T | C | T | C | G | T | G | A |\n",
    "|   -   | - | - | - | - | - | - | - | - | - | - |\n",
    "| **-** | 0 |-5 |-10|-15|-20|-25|-30|-35|-40|-45|\n",
    "| **A** |-5 | &nbsp; | &nbsp; | &nbsp; | &nbsp; | &nbsp; | &nbsp; | &nbsp; | &nbsp; | &nbsp; |\n",
    "| **C** |-10| &nbsp; | &nbsp; | &nbsp; | &nbsp; | &nbsp; | &nbsp; | &nbsp; | &nbsp; | &nbsp; |\n",
    "| **T** |-15| &nbsp; | &nbsp; | &nbsp; | &nbsp; | &nbsp; | &nbsp; | &nbsp; | &nbsp; | &nbsp; |\n",
    "| **C** |-20| &nbsp; | &nbsp; | &nbsp; | &nbsp; | &nbsp; | &nbsp; | &nbsp; | &nbsp; | &nbsp; |\n",
    "| **C** |-25| &nbsp; | &nbsp; | &nbsp; | &nbsp; | &nbsp; | &nbsp; | &nbsp; | &nbsp; | &nbsp; |\n",
    "| **T** |-30| &nbsp; | &nbsp; | &nbsp; | &nbsp; | &nbsp; | &nbsp; | &nbsp; | &nbsp; | &nbsp; |\n",
    "| **G** |-45| &nbsp; | &nbsp; | &nbsp; | &nbsp; | &nbsp; | &nbsp; | &nbsp; | &nbsp; | &nbsp; |\n",
    "| **A** |-40| &nbsp; | &nbsp; | &nbsp; | &nbsp; | &nbsp; | &nbsp; | &nbsp; | &nbsp; | &nbsp; ||\n",
    "\n",
    "Puis on initialise $T$ :\n",
    "\n",
    "|   &nbsp;   | - | A | T | C | T | C | G | T | G | A |\n",
    "|   -   | - | - | - | - | - | - | - | - | - | - |\n",
    "| **-** | o | l | l | l | l | l | l | l | l | l |\n",
    "| **A** | u | &nbsp; | &nbsp; | &nbsp; | &nbsp; | &nbsp; | &nbsp; | &nbsp; | &nbsp; | &nbsp; |\n",
    "| **C** | u | &nbsp; | &nbsp; | &nbsp; | &nbsp; | &nbsp; | &nbsp; | &nbsp; | &nbsp; | &nbsp; |\n",
    "| **T** | u | &nbsp; | &nbsp; | &nbsp; | &nbsp; | &nbsp; | &nbsp; | &nbsp; | &nbsp; | &nbsp; |\n",
    "| **C** | u | &nbsp; | &nbsp; | &nbsp; | &nbsp; | &nbsp; | &nbsp; | &nbsp; | &nbsp; | &nbsp; |\n",
    "| **C** | u | &nbsp; | &nbsp; | &nbsp; | &nbsp; | &nbsp; | &nbsp; | &nbsp; | &nbsp; | &nbsp; |\n",
    "| **T** | u | &nbsp; | &nbsp; | &nbsp; | &nbsp; | &nbsp; | &nbsp; | &nbsp; | &nbsp; | &nbsp; |\n",
    "| **G** | u | &nbsp; | &nbsp; | &nbsp; | &nbsp; | &nbsp; | &nbsp; | &nbsp; | &nbsp; | &nbsp; |\n",
    "| **A** | u | &nbsp; | &nbsp; | &nbsp; | &nbsp; | &nbsp; | &nbsp; | &nbsp; | &nbsp; | &nbsp; ||\n",
    "\n",
    "\n",
    "Il faut ensuite remplir la matrice $M$ en suivant la formule $M_{ij} = \\max(M_{i-1j-1} + s(A_i, B_j), M_{ij-1} + s(A_i, gap), M_{i-1j} + s(B_j,gap) )$ avec $i \\in {2, \\dots, n+1}$, $j \\in {2, \\dots, m+1}$ et la fonction $s$ qui calcule le score de similarité entre deux nucléotides. Pour chaque case de $T$ on remplie par :\n",
    "- 'd' (*diagonal*) si $M_{ij}$ a été calculé en utilisant la diagonale $M_{i-1j-1}$,\n",
    "- 'l' (*left*) si $M_{ij}$ a été calculé en utilisant la case de gauche $M_{ij-1}$,\n",
    "- 'u' (*up*) si $M_{ij}$ a été calculé en utilisant la case du haut $M_{i-1j}$.\n",
    "\n",
    "On obtient alors les matrices suivantes $M$ et $T$ : \n",
    "\n",
    "|   &nbsp;   | - | A | T | C | T | C | G | T | G | A |\n",
    "|   -   | - | - | - | - | - | - | - | - | - | - |\n",
    "| **-** |  0| -5|-10|-15|-20|-25|-30|-35|-40|-45|\n",
    "| **A** | -5| 10|  5|  0| -5|-10|-15|-20|-25|-30|\n",
    "| **C** |-10|  5|  7| 12|  7|  2| -3| -8|-13|-18|\n",
    "| **T** |-15|  0| 13|  8| 20| 15| 10|  5|  0| -5|\n",
    "| **C** |-20| -5|  8| 20| 15| 27| 22| 17| 12|  7|\n",
    "| **C** |-25|-10|  3| 15| 17| 22| 22| 19| 14| 11|\n",
    "| **T** |-30|-15| -2| 10| 23| 18| 22| 30| 25| 20|\n",
    "| **G** |-35|-20| -7|  5| 18| 18| 27| 25| 39| 34|\n",
    "| **A** |-40|-25|-12|  0| 13| 17| 22| 23| 34| 49|\n",
    "\n",
    "|   &nbsp;   | - | A | T | C | T | C | G | T | G | A |\n",
    "|   -   | - | - | - | - | - | - | - | - | - | - |\n",
    "| **-** | o | l | l | l | l | l | l | l | l | l |\n",
    "| **A** | u | d | l | l | l | l | l | l | l | d |\n",
    "| **C** | u | u | d | d | l | d | l | l | l | l |\n",
    "| **T** | u | u | d | l | d | l | l | d | l | l |\n",
    "| **C** | u | u | u | d | l | d | l | l | l | l |\n",
    "| **C** | u | u | u | d | d | d | d | d | l | d |\n",
    "| **T** | u | u | d | u | d | l | d | d | l | l |\n",
    "| **G** | u | u | u | u | u | d | d | u | d | l |\n",
    "| **A** | u | d | u | u | u | d | u | d | u | d |\n",
    "\n",
    "Il suffit maintenant de regarder le dernier élément $M_{nm} = 49$ pour avoir le score de l'alignement. Pour avoir l'alignement lui-même, il faut partir de $T_{nm}$ et remonter la \"trace\" jusqu'à arriver au 'o'. Un 'd' correspond à un *match* entre les deux séquences, 'l' à un *gap* dans la séquence $A$ et 'u' à un *gap* dans la séquence $B$. En revenant à l'exemple précédent on obtient la trace suivante :\n",
    "\n",
    "|   &nbsp;   | - | A | T | C | T | C | G | T | G | A |\n",
    "|   -   | - | - | - | - | - | - | - | - | - | - |\n",
    "| **-** | o | &nbsp; | &nbsp; | &nbsp; | &nbsp; | &nbsp; | &nbsp; | &nbsp; | &nbsp; | &nbsp; |\n",
    "| **A** | &nbsp; | d | l | &nbsp; | &nbsp; | &nbsp; | &nbsp; | &nbsp; | &nbsp; | &nbsp; |\n",
    "| **C** | &nbsp; | &nbsp; | &nbsp; | d | &nbsp; | &nbsp; | &nbsp; | &nbsp; | &nbsp; | &nbsp; |\n",
    "| **T** | &nbsp; | &nbsp; | &nbsp; | &nbsp; | d | &nbsp; | &nbsp; | &nbsp; | &nbsp; | &nbsp; |\n",
    "| **C** | &nbsp; | &nbsp; | &nbsp; | &nbsp; | &nbsp; | d | &nbsp; | &nbsp; | &nbsp; | &nbsp; |\n",
    "| **C** | &nbsp; | &nbsp; | &nbsp; | &nbsp; | &nbsp; | &nbsp; | d | &nbsp; | &nbsp; | &nbsp; |\n",
    "| **T** | &nbsp; | &nbsp; | &nbsp; | &nbsp; | &nbsp; | &nbsp; | &nbsp; | d | &nbsp; | &nbsp; |\n",
    "| **G** | &nbsp; | &nbsp; | &nbsp; | &nbsp; | &nbsp; | &nbsp; | &nbsp; | &nbsp; | d | &nbsp; |\n",
    "| **A** | &nbsp; | &nbsp; | &nbsp; | &nbsp; | &nbsp; | &nbsp; | &nbsp; | &nbsp; | &nbsp; | d |\n",
    "\n",
    "Elle correspond à l'alignement :\n",
    "```\n",
    "A-CTCCTGA\n",
    "ATCTCGTGA\n",
    "```\n",
    "\n",
    "**Exercice 3 :** Implémenter l'algorithme de Needlman et Wunsch. Il prendra en paramètre deux séquences et une matrice de similarité et retournera leur alignement. Tester le avec les séquences \"ACTCCTGA\" et \"ATCTCGTGA\"."
   ]
  },
  {
   "cell_type": "code",
   "execution_count": 6,
   "metadata": {},
   "outputs": [],
   "source": [
    "def Needleman(s1, s2, matrix):\n",
    "    n = len(s1)\n",
    "    m = len(s2)\n",
    "    \n",
    "    M = np.empty((n+1, m+1), dtype=int)\n",
    "    gap_score = similarity_matrix.score('-', 'A')\n",
    "    init = np.arange(0, gap_score*(m+1), gap_score)\n",
    "    M[0, 0] = 0\n",
    "    M[0] = init\n",
    "    M[:, 0] = init[:n+1]\n",
    "    \n",
    "    T = np.empty((n+1, m+1), dtype=object)\n",
    "    T[0, 0] = 'o'\n",
    "    T[0][1:] = 'l'\n",
    "    T[1:, 0] = 'l'\n",
    "\n",
    "    for i in range(1, n+1):\n",
    "        for j in range(1, m+1):\n",
    "            score1 = M[i-1][j-1] + matrix.score(s1[i-1], s2[j-1])\n",
    "            score2 = M[i][j-1] + matrix.score(s1[i-1], '-')\n",
    "            score3 = M[i-1][j] + matrix.score(s2[j-1], '-')\n",
    "            max_score = max(score1, score2, score3)\n",
    "            M[i][j] = max_score\n",
    "            if max_score  == score1:\n",
    "                T[i][j] = 'd'\n",
    "            elif max_score == score2:\n",
    "                T[i][j] = 'l'\n",
    "            else:\n",
    "                T[i][j] = 'u'\n",
    "    \n",
    "    i = n\n",
    "    j = m\n",
    "    sequence1 = \"\"\n",
    "    sequence2 = \"\"\n",
    "    while T[i][j] != 'o':\n",
    "        shift = T[i][j]\n",
    "        if shift == 'd':\n",
    "            sequence1 += s1[i-1]\n",
    "            sequence2 += s2[j-1]\n",
    "            i -= 1\n",
    "            j -= 1\n",
    "        elif shift == 'u':\n",
    "            sequence1 += s1[i-1]\n",
    "            sequence2 += '-'\n",
    "            i -= 1\n",
    "        else :\n",
    "            sequence1 += '-'\n",
    "            sequence2 += s2[j-1]\n",
    "            j -= 1\n",
    "            \n",
    "    return sequence1[::-1], sequence2[::-1]"
   ]
  },
  {
   "cell_type": "code",
   "execution_count": 7,
   "metadata": {},
   "outputs": [
    {
     "name": "stdout",
     "output_type": "stream",
     "text": [
      "('A-CTCCTGA', 'ATCTCGTGA')\n"
     ]
    }
   ],
   "source": [
    "s1 = \"ACTCCTGA\"\n",
    "s2 = \"ATCTCGTGA\"\n",
    "\n",
    "print(Needleman(s1, s2, similarity_matrix))"
   ]
  },
  {
   "cell_type": "markdown",
   "metadata": {},
   "source": [
    "----\n",
    "## Matrice de distance\n",
    "\n",
    "Dans le cas de séquences très proches, on estime que la distance évolutive réelle entre les séquences est proche de la p-distance qui est simplement le nombre de substitution dans l'alignement sur le nombre total de nucléotide. Pour simplifier, on ignore les positions alignées à des gaps. On applique ensuite la correction de Jukes-Cantor. Sa formule est $-(\\frac{3}{4})\\ln(1-(\\frac{4}{3})\\times \\textit{p-distance})$.\n",
    "\n",
    "**Exercice 4 :** Implémenter la fonction retournant la matrice de distance à partir d'un dictionnaire de séquences. "
   ]
  },
  {
   "cell_type": "code",
   "execution_count": 31,
   "metadata": {},
   "outputs": [],
   "source": [
    "def correction(p_distance):\n",
    "    return -(3/4)*np.log(1-(4/3)*p_distance)\n",
    "\n",
    "def matrice_distance(dic, tri=False):\n",
    "    sequences = list(dic.values())\n",
    "    distance_matrix = np.zeros((len(sequences), len(sequences)))\n",
    "    for i in range(len(sequences)):\n",
    "        for j in range(i if tri else len(sequences)):\n",
    "            score = 0\n",
    "            if i != j:\n",
    "                align1, align2 = Needleman(sequences[i], sequences[j], similarity_matrix)\n",
    "                for k in range(len(align2)):\n",
    "                    if (align1[k] != align2[k]) and align1[k] != \"-\" and align2[k] != \"-\":\n",
    "                        score += 1\n",
    "                gaps = align1.count(\"-\") + align2.count(\"-\")\n",
    "                distance_matrix[i, j] = correction(score/(len(align1) - gaps))\n",
    "    return distance_matrix"
   ]
  },
  {
   "cell_type": "code",
   "execution_count": 32,
   "metadata": {},
   "outputs": [
    {
     "name": "stdout",
     "output_type": "stream",
     "text": [
      "[[ 0.         -0.          0.30409883]\n",
      " [-0.          0.          0.82395922]\n",
      " [ 0.30409883  0.82395922  0.        ]]\n"
     ]
    }
   ],
   "source": [
    "dic = {\n",
    "   \"Sabertooth\": \"CTAATTAAAATTATCAACCACTCATTCATTGATTTACCCACCCCATCCAACATTTCAGCATGATGAAACTTCGGCTCCTTATTAGGAGTGTGCTTAATCTTACAAATCCTCACTGGCTTATTTCTAGCCATACATTATACACCAGATACAACAACCGCCTTCTCATCAGTTACCCACATTTGCCGTGATGTTAATTACGGCTGAATTATCCGATATATACACGCCAATGGAGCTTCCATATTCTTCATCTGCCTATATATACATGTAGGTCGAGCATATACTAC\",\n",
    "   \"Homotherium\": \"CTAATTAAAATCATCAACCAATCATTCATTGACTTACCTACCCCCTCCAACATCTCAGCATGATGAAACTTCGGATCCCTACTAGGCATTTGCCTAATTCTTCAAATCCTCACAGGCTTATTCCTAGCCATACACTACACATCAGACACAACAACTGCTTTCTCATCAATCGCCCATATTTGCCGTGACGTAAATTATGGTTGAATTATCCGATATATACACGCCAATGGAGCCTCTATATTCTTCATCTGTCTATACCTACATGTAGCTCGAGAATTTATTAC\",\n",
    "   \"American\": \"CTTATTAAAATCATTAATCACTCATTCATTGATCTACCCACCCCATCCAACATTTCAGCATGATGAAACTTCGGTTCCCTACTAGGGGTCTGCCTAATCCTACAAATCCTAACCGGCCTCTTCCTGGCTATACACTACACATCAGACACAATAACCGCCTTTTCATCAGTTACTCACATCTGTCGTGACGTCAATTACGGCTGAATTATTCGGTATATACACGCCAACGGAGCCTCCATATTCTTTATCTGCCTATACATGCACGTAGGGCGAGAATATATTAC\",\n",
    "}\n",
    "print(matrice_distance(dic))"
   ]
  },
  {
   "cell_type": "markdown",
   "metadata": {},
   "source": [
    "**Exercice 4 bis :** À quoi sert la correction de Jukes-Cantor ? Quelle hypothèse fait-elle ? "
   ]
  },
  {
   "attachments": {},
   "cell_type": "markdown",
   "metadata": {},
   "source": [
    "**Réponse :** La correction de Jukes-Cantor sert à prendre en compte le ralentissement de l'augmentation du nombre de différences, au fur et à mesure que le temps de divergence entre deux séquences augmente, dû à l'augmentation de la probabilité d'une deuxième substitution sur un même site nucléotidique."
   ]
  },
  {
   "cell_type": "markdown",
   "metadata": {},
   "source": [
    "------\n",
    "## Construction d'un arbre avec UPGMA\n",
    "\n",
    "Grâce aux mesures de distances entre les séquences, on peut maintenant de construire l'arbre phylogénétique des globines. Vous allez devoir pour cela implémenter l'algorithme UPGMA (*unweighted pair group method with arithmetic mean*) qui, malgré son nom compliqué, est l'une des méthodes les plus simples pour la construction d'arbre.\n",
    "\n",
    "### Le format Newick\n",
    "\n",
    "Le format Newick est l'un des formats utilisé en phylogénie pour représenter un arbre sous la forme d'une chaine de caractère. Le principe est simple, les groupes ayant la même racine sont écrit entre parenthèses et séparés par des virgules. Un groupe peut être soit une feuille de l'arbre (dans notre cas une séquence), soit un autre groupe. La longueur de la branche de chaque groupe est écrite après un double point et l'arbre est terminé par un point virgule. Pour afficher l'arbre on peut utiliser les fonction du package ETE : "
   ]
  },
  {
   "cell_type": "code",
   "execution_count": 1,
   "metadata": {},
   "outputs": [
    {
     "ename": "TypeError",
     "evalue": "arguments did not match any overloaded call:\n  QImage(): too many arguments\n  QImage(QSize, QImage.Format): argument 1 has unexpected type 'float'\n  QImage(int, int, QImage.Format): argument 1 has unexpected type 'float'\n  QImage(bytes, int, int, QImage.Format): argument 1 has unexpected type 'float'\n  QImage(PyQt5.sip.voidptr, int, int, QImage.Format): argument 1 has unexpected type 'float'\n  QImage(bytes, int, int, int, QImage.Format): argument 1 has unexpected type 'float'\n  QImage(PyQt5.sip.voidptr, int, int, int, QImage.Format): argument 1 has unexpected type 'float'\n  QImage(List[str]): argument 1 has unexpected type 'float'\n  QImage(str, format: str = None): argument 1 has unexpected type 'float'\n  QImage(QImage): argument 1 has unexpected type 'float'\n  QImage(Any): too many arguments",
     "output_type": "error",
     "traceback": [
      "\u001b[0;31m---------------------------------------------------------------------------\u001b[0m",
      "\u001b[0;31mTypeError\u001b[0m                                 Traceback (most recent call last)",
      "Cell \u001b[0;32mIn[1], line 7\u001b[0m\n\u001b[1;32m      5\u001b[0m ts \u001b[39m=\u001b[39m TreeStyle()\n\u001b[1;32m      6\u001b[0m ts\u001b[39m.\u001b[39mshow_branch_length \u001b[39m=\u001b[39m \u001b[39mTrue\u001b[39;00m\n\u001b[0;32m----> 7\u001b[0m t\u001b[39m.\u001b[39;49mrender(\u001b[39m'\u001b[39;49m\u001b[39m%%\u001b[39;49;00m\u001b[39minline\u001b[39;49m\u001b[39m'\u001b[39;49m, w\u001b[39m=\u001b[39;49m\u001b[39m18\u001b[39;49m, units\u001b[39m=\u001b[39;49m\u001b[39m'\u001b[39;49m\u001b[39mmm\u001b[39;49m\u001b[39m'\u001b[39;49m, tree_style\u001b[39m=\u001b[39;49mts)\n",
      "File \u001b[0;32m/opt/homebrew/Caskroom/miniforge/base/envs/env_python_ete3/lib/python3.11/site-packages/ete3/coretype/tree.py:1392\u001b[0m, in \u001b[0;36mTreeNode.render\u001b[0;34m(self, file_name, layout, w, h, tree_style, units, dpi)\u001b[0m\n\u001b[1;32m   1388\u001b[0m     \u001b[39mreturn\u001b[39;00m drawer\u001b[39m.\u001b[39mget_img(\u001b[39mself\u001b[39m, w\u001b[39m=\u001b[39mw, h\u001b[39m=\u001b[39mh,\n\u001b[1;32m   1389\u001b[0m                           layout\u001b[39m=\u001b[39mlayout, tree_style\u001b[39m=\u001b[39mtree_style,\n\u001b[1;32m   1390\u001b[0m                           units\u001b[39m=\u001b[39munits, dpi\u001b[39m=\u001b[39mdpi, return_format\u001b[39m=\u001b[39mfile_name)\n\u001b[1;32m   1391\u001b[0m \u001b[39melse\u001b[39;00m:\n\u001b[0;32m-> 1392\u001b[0m     \u001b[39mreturn\u001b[39;00m drawer\u001b[39m.\u001b[39;49mrender_tree(\u001b[39mself\u001b[39;49m, file_name, w\u001b[39m=\u001b[39;49mw, h\u001b[39m=\u001b[39;49mh,\n\u001b[1;32m   1393\u001b[0m                             layout\u001b[39m=\u001b[39;49mlayout, tree_style\u001b[39m=\u001b[39;49mtree_style,\n\u001b[1;32m   1394\u001b[0m                               units\u001b[39m=\u001b[39;49munits, dpi\u001b[39m=\u001b[39;49mdpi)\n",
      "File \u001b[0;32m/opt/homebrew/Caskroom/miniforge/base/envs/env_python_ete3/lib/python3.11/site-packages/ete3/treeview/drawer.py:111\u001b[0m, in \u001b[0;36mrender_tree\u001b[0;34m(t, imgName, w, h, layout, tree_style, header, units, dpi)\u001b[0m\n\u001b[1;32m    109\u001b[0m scene\u001b[39m.\u001b[39maddItem(scene\u001b[39m.\u001b[39mmaster_item)\n\u001b[1;32m    110\u001b[0m \u001b[39mif\u001b[39;00m imgName\u001b[39m.\u001b[39mstartswith(\u001b[39m\"\u001b[39m\u001b[39m%%\u001b[39;00m\u001b[39minline\u001b[39m\u001b[39m\"\u001b[39m):\n\u001b[0;32m--> 111\u001b[0m     imgmap \u001b[39m=\u001b[39m save(scene, imgName, w\u001b[39m=\u001b[39;49mw, h\u001b[39m=\u001b[39;49mh, units\u001b[39m=\u001b[39;49munits, dpi\u001b[39m=\u001b[39;49mdpi)\n\u001b[1;32m    112\u001b[0m \u001b[39melse\u001b[39;00m:\n\u001b[1;32m    113\u001b[0m     x_scale, y_scale \u001b[39m=\u001b[39m save(scene, imgName, w\u001b[39m=\u001b[39mw, h\u001b[39m=\u001b[39mh, units\u001b[39m=\u001b[39munits, dpi\u001b[39m=\u001b[39mdpi)\n",
      "File \u001b[0;32m/opt/homebrew/Caskroom/miniforge/base/envs/env_python_ete3/lib/python3.11/site-packages/ete3/treeview/main.py:752\u001b[0m, in \u001b[0;36msave\u001b[0;34m(scene, imgName, w, h, dpi, take_region, units)\u001b[0m\n\u001b[1;32m    750\u001b[0m \u001b[39melse\u001b[39;00m:\n\u001b[1;32m    751\u001b[0m     targetRect \u001b[39m=\u001b[39m QRectF(\u001b[39m0\u001b[39m, \u001b[39m0\u001b[39m, w, h)\n\u001b[0;32m--> 752\u001b[0m     ii\u001b[39m=\u001b[39m QImage(w, h, QImage\u001b[39m.\u001b[39;49mFormat_ARGB32)\n\u001b[1;32m    753\u001b[0m     ii\u001b[39m.\u001b[39mfill(QColor(Qt\u001b[39m.\u001b[39mwhite)\u001b[39m.\u001b[39mrgb())\n\u001b[1;32m    754\u001b[0m     ii\u001b[39m.\u001b[39msetDotsPerMeterX(dpi \u001b[39m/\u001b[39m \u001b[39m0.0254\u001b[39m) \u001b[39m# Convert inches to meters\u001b[39;00m\n",
      "\u001b[0;31mTypeError\u001b[0m: arguments did not match any overloaded call:\n  QImage(): too many arguments\n  QImage(QSize, QImage.Format): argument 1 has unexpected type 'float'\n  QImage(int, int, QImage.Format): argument 1 has unexpected type 'float'\n  QImage(bytes, int, int, QImage.Format): argument 1 has unexpected type 'float'\n  QImage(PyQt5.sip.voidptr, int, int, QImage.Format): argument 1 has unexpected type 'float'\n  QImage(bytes, int, int, int, QImage.Format): argument 1 has unexpected type 'float'\n  QImage(PyQt5.sip.voidptr, int, int, int, QImage.Format): argument 1 has unexpected type 'float'\n  QImage(List[str]): argument 1 has unexpected type 'float'\n  QImage(str, format: str = None): argument 1 has unexpected type 'float'\n  QImage(QImage): argument 1 has unexpected type 'float'\n  QImage(Any): too many arguments"
     ]
    }
   ],
   "source": [
    "from ete3 import Tree, TreeStyle\n",
    "\n",
    "\n",
    "newick_tree = '((A:2,(B:2,C:3):5):5,D:4);'\n",
    "t = Tree(newick_tree)\n",
    "ts = TreeStyle()\n",
    "ts.show_branch_length = True\n",
    "t.render('%%inline', w=18, units='mm', tree_style=ts)"
   ]
  },
  {
   "cell_type": "markdown",
   "metadata": {},
   "source": [
    "**Exercice 5 :** Reécrivez l'arbre suivant au format Newick puis afficher-le. Les nombres correspondent aux longueurs des branches :\n",
    "![](input/tree.png)"
   ]
  },
  {
   "cell_type": "code",
   "execution_count": 39,
   "metadata": {},
   "outputs": [
    {
     "ename": "TypeError",
     "evalue": "arguments did not match any overloaded call:\n  QImage(): too many arguments\n  QImage(QSize, QImage.Format): argument 1 has unexpected type 'float'\n  QImage(int, int, QImage.Format): argument 1 has unexpected type 'float'\n  QImage(bytes, int, int, QImage.Format): argument 1 has unexpected type 'float'\n  QImage(PyQt5.sip.voidptr, int, int, QImage.Format): argument 1 has unexpected type 'float'\n  QImage(bytes, int, int, int, QImage.Format): argument 1 has unexpected type 'float'\n  QImage(PyQt5.sip.voidptr, int, int, int, QImage.Format): argument 1 has unexpected type 'float'\n  QImage(List[str]): argument 1 has unexpected type 'float'\n  QImage(str, format: str = None): argument 1 has unexpected type 'float'\n  QImage(QImage): argument 1 has unexpected type 'float'\n  QImage(Any): too many arguments",
     "output_type": "error",
     "traceback": [
      "\u001b[0;31m---------------------------------------------------------------------------\u001b[0m",
      "\u001b[0;31mTypeError\u001b[0m                                 Traceback (most recent call last)",
      "Cell \u001b[0;32mIn[39], line 7\u001b[0m\n\u001b[1;32m      5\u001b[0m ts \u001b[39m=\u001b[39m TreeStyle()\n\u001b[1;32m      6\u001b[0m ts\u001b[39m.\u001b[39mshow_branch_length \u001b[39m=\u001b[39m \u001b[39mTrue\u001b[39;00m\n\u001b[0;32m----> 7\u001b[0m t\u001b[39m.\u001b[39;49mrender(\u001b[39m'\u001b[39;49m\u001b[39m%%\u001b[39;49;00m\u001b[39minline\u001b[39;49m\u001b[39m'\u001b[39;49m, w\u001b[39m=\u001b[39;49m\u001b[39m18\u001b[39;49m, units\u001b[39m=\u001b[39;49m\u001b[39m'\u001b[39;49m\u001b[39mmm\u001b[39;49m\u001b[39m'\u001b[39;49m, tree_style\u001b[39m=\u001b[39;49mts)\n",
      "File \u001b[0;32m/opt/homebrew/Caskroom/miniforge/base/envs/env_python_ete3/lib/python3.11/site-packages/ete3/coretype/tree.py:1392\u001b[0m, in \u001b[0;36mTreeNode.render\u001b[0;34m(self, file_name, layout, w, h, tree_style, units, dpi)\u001b[0m\n\u001b[1;32m   1388\u001b[0m     \u001b[39mreturn\u001b[39;00m drawer\u001b[39m.\u001b[39mget_img(\u001b[39mself\u001b[39m, w\u001b[39m=\u001b[39mw, h\u001b[39m=\u001b[39mh,\n\u001b[1;32m   1389\u001b[0m                           layout\u001b[39m=\u001b[39mlayout, tree_style\u001b[39m=\u001b[39mtree_style,\n\u001b[1;32m   1390\u001b[0m                           units\u001b[39m=\u001b[39munits, dpi\u001b[39m=\u001b[39mdpi, return_format\u001b[39m=\u001b[39mfile_name)\n\u001b[1;32m   1391\u001b[0m \u001b[39melse\u001b[39;00m:\n\u001b[0;32m-> 1392\u001b[0m     \u001b[39mreturn\u001b[39;00m drawer\u001b[39m.\u001b[39;49mrender_tree(\u001b[39mself\u001b[39;49m, file_name, w\u001b[39m=\u001b[39;49mw, h\u001b[39m=\u001b[39;49mh,\n\u001b[1;32m   1393\u001b[0m                             layout\u001b[39m=\u001b[39;49mlayout, tree_style\u001b[39m=\u001b[39;49mtree_style,\n\u001b[1;32m   1394\u001b[0m                               units\u001b[39m=\u001b[39;49munits, dpi\u001b[39m=\u001b[39;49mdpi)\n",
      "File \u001b[0;32m/opt/homebrew/Caskroom/miniforge/base/envs/env_python_ete3/lib/python3.11/site-packages/ete3/treeview/drawer.py:111\u001b[0m, in \u001b[0;36mrender_tree\u001b[0;34m(t, imgName, w, h, layout, tree_style, header, units, dpi)\u001b[0m\n\u001b[1;32m    109\u001b[0m scene\u001b[39m.\u001b[39maddItem(scene\u001b[39m.\u001b[39mmaster_item)\n\u001b[1;32m    110\u001b[0m \u001b[39mif\u001b[39;00m imgName\u001b[39m.\u001b[39mstartswith(\u001b[39m\"\u001b[39m\u001b[39m%%\u001b[39;00m\u001b[39minline\u001b[39m\u001b[39m\"\u001b[39m):\n\u001b[0;32m--> 111\u001b[0m     imgmap \u001b[39m=\u001b[39m save(scene, imgName, w\u001b[39m=\u001b[39;49mw, h\u001b[39m=\u001b[39;49mh, units\u001b[39m=\u001b[39;49munits, dpi\u001b[39m=\u001b[39;49mdpi)\n\u001b[1;32m    112\u001b[0m \u001b[39melse\u001b[39;00m:\n\u001b[1;32m    113\u001b[0m     x_scale, y_scale \u001b[39m=\u001b[39m save(scene, imgName, w\u001b[39m=\u001b[39mw, h\u001b[39m=\u001b[39mh, units\u001b[39m=\u001b[39munits, dpi\u001b[39m=\u001b[39mdpi)\n",
      "File \u001b[0;32m/opt/homebrew/Caskroom/miniforge/base/envs/env_python_ete3/lib/python3.11/site-packages/ete3/treeview/main.py:752\u001b[0m, in \u001b[0;36msave\u001b[0;34m(scene, imgName, w, h, dpi, take_region, units)\u001b[0m\n\u001b[1;32m    750\u001b[0m \u001b[39melse\u001b[39;00m:\n\u001b[1;32m    751\u001b[0m     targetRect \u001b[39m=\u001b[39m QRectF(\u001b[39m0\u001b[39m, \u001b[39m0\u001b[39m, w, h)\n\u001b[0;32m--> 752\u001b[0m     ii\u001b[39m=\u001b[39m QImage(w, h, QImage\u001b[39m.\u001b[39;49mFormat_ARGB32)\n\u001b[1;32m    753\u001b[0m     ii\u001b[39m.\u001b[39mfill(QColor(Qt\u001b[39m.\u001b[39mwhite)\u001b[39m.\u001b[39mrgb())\n\u001b[1;32m    754\u001b[0m     ii\u001b[39m.\u001b[39msetDotsPerMeterX(dpi \u001b[39m/\u001b[39m \u001b[39m0.0254\u001b[39m) \u001b[39m# Convert inches to meters\u001b[39;00m\n",
      "\u001b[0;31mTypeError\u001b[0m: arguments did not match any overloaded call:\n  QImage(): too many arguments\n  QImage(QSize, QImage.Format): argument 1 has unexpected type 'float'\n  QImage(int, int, QImage.Format): argument 1 has unexpected type 'float'\n  QImage(bytes, int, int, QImage.Format): argument 1 has unexpected type 'float'\n  QImage(PyQt5.sip.voidptr, int, int, QImage.Format): argument 1 has unexpected type 'float'\n  QImage(bytes, int, int, int, QImage.Format): argument 1 has unexpected type 'float'\n  QImage(PyQt5.sip.voidptr, int, int, int, QImage.Format): argument 1 has unexpected type 'float'\n  QImage(List[str]): argument 1 has unexpected type 'float'\n  QImage(str, format: str = None): argument 1 has unexpected type 'float'\n  QImage(QImage): argument 1 has unexpected type 'float'\n  QImage(Any): too many arguments"
     ]
    }
   ],
   "source": [
    "newtree = '((A:10,B:8,C:7):5,(D:9,(E:5,F:5):2):2);'\n",
    "\n",
    "t = Tree(newtree)\n",
    "ts = TreeStyle()\n",
    "ts.show_branch_length = True\n",
    "t.render('%%inline', w=18, units='mm', tree_style=ts)"
   ]
  },
  {
   "cell_type": "markdown",
   "metadata": {},
   "source": [
    "**Exercice 6 :** Expliquer la relation de parenté entre $A$, $B$ et $C$ ? Qu'elles sont les hypothèses qui pourraient expliquer ce type d'embranchement dans un arbre ? Donner une réponse détaillée."
   ]
  },
  {
   "attachments": {},
   "cell_type": "markdown",
   "metadata": {},
   "source": [
    "**Réponse :** Ils forment une polytomie, i.e. une section d'une arbre phylogénétique ne comprenant pas que des ramifications dichotomiques. On remarque par ailleurs que les trois espèces sont relativement éloignés de leur plus proche ancêtre commun. Deux hypothèse majeures pourraient expliquer ce type d'embranchements dans l'arbre : \n",
    "\n",
    "**Un simple manque d'information phylogénétique :**\n",
    "\n",
    "Bien qu'à certains moments de l'évolution les embranchements auraient divergé, ce qui signifierait que certains seraient effectivement plus proches parents que d'autres, les données disponibles actuellement ne permettent pas de l'identifier.\n",
    "\n",
    "**Plusieurs événements de spéciations relativement simultanés à partir d'un même ancêtre commun :**\n",
    "\n",
    "L'ancêtre commun aurait pu en effet être soumis, entre autre, à:\n",
    "\n",
    "- une spéciation péripatrique dans différentes régions, après avoir rapidement étendu son aire de répartition\n",
    "- une spéciation vicariante, après avoir vu son aire de répartition se faire découper en différentes zone par une brusque modification de l'environnement (ex: rivière, montagne, vallée, océan, glacier, etc."
   ]
  },
  {
   "cell_type": "markdown",
   "metadata": {},
   "source": [
    "### UPGMA\n",
    "\n",
    "L'algorithme UPGMA se base sur la matrice de distance entre les séquences. À chaque itération, les séquences avec la distance la plus faible sont regroupées puis une nouvelle matrice de distance est calculée avec le nouveau groupe. Cette étape est répétée jusqu'à n'avoir plus qu'un seul groupe. Par exemple, avec la matrice de distance entre les séquences $A$, $B$, $C$ et $D$ suivante :\n",
    "\n",
    "|   &nbsp;   | A | B | C | D |\n",
    "|   -   | - | - | - | - |\n",
    "| **A** | &nbsp; | &nbsp; | &nbsp; | &nbsp; |\n",
    "| **B** | 4 | &nbsp; | &nbsp; | &nbsp; |\n",
    "| **C** | 8 | 8 | &nbsp; | &nbsp; |\n",
    "| **D** | 2 | 4 | 8 | &nbsp; |\n",
    "\n",
    "Les séquences $A$ et $D$ sont les plus proches ($distance(A,D)=2$). On les regroupe et on met à jour la matrice :\n",
    "\n",
    "|   &nbsp;   | (A, D) | B | C |\n",
    "|   -   | - | - | - |\n",
    "| **(A, D)** | &nbsp; | &nbsp; | &nbsp; |\n",
    "| **B** | 4 | &nbsp; | &nbsp; |\n",
    "| **C** | 8 | 8 | &nbsp; | &nbsp; |\n",
    "\n",
    "On regroupe maintenant $(A,D)$ et $B$ ($distance((A,D),B) = 4$) :\n",
    "\n",
    "|   &nbsp;   | ((A, D), B) | C |\n",
    "|   -   | - | - |\n",
    "| **((A, D), B)** | &nbsp; | &nbsp; |\n",
    "| **C** | 8 | &nbsp; |\n",
    "\n",
    "Important : les nouvelles distances sont calculées en moyennant les distances entre les membres du nouveau groupe et des groupes non modifiés pondéré par le nombre d'UTOs dans chaque groupe. Avec $i$ et $j$ les deux membres du groupe nouvellement formé et k les groupes restant : $d_{ij,k} = \\frac{n_id_{ik}}{n_i + n_j}+ \\frac{n_jd_{jk}}{n_i + n_j}$. Par exemple avec la distance entre $((A, D), B)$ et $C$:\n",
    "\n",
    "$distance(((A, D), B), C) = (distance((A, D), C)*2 + distance(B, C)) \\mathbin{/} 3 = (8*2 + 8) \\mathbin{/} 3 = 8 $.\n",
    "\n",
    "L'arbre final écrit dans le format Newick est : $((A, D), B), C);$ \n",
    "\n",
    "Et avec les distances : $((A:1, D:1):1, B:2):2, C:4);$ \n",
    "\n",
    "**Exercice 7 :** Implémenter une version d'UPGMA qui calcule l'arbre au format Newick **avec les distances** puis appliquer votre algorithme aux données. "
   ]
  },
  {
   "cell_type": "code",
   "execution_count": null,
   "metadata": {},
   "outputs": [],
   "source": [
    "def shift_keys(dic, idx):\n",
    "    keys = list(dic.keys())[idx+1:]\n",
    "    for i in keys:\n",
    "        dic[i-1] = dic[i]\n",
    "    dic.pop(len(dic)-1)\n",
    "    \n",
    "    return dic"
   ]
  },
  {
   "cell_type": "code",
   "execution_count": 48,
   "metadata": {},
   "outputs": [
    {
     "name": "stdout",
     "output_type": "stream",
     "text": [
      "2\n",
      "[[2 3 4 5 4 4]\n",
      " [2 3 4 5 4 4]]\n"
     ]
    }
   ],
   "source": [
    "def UPGMA(distance_matrix):\n",
    "    matrix = np.copy(distance_matrix)\n",
    "    labels = {i: (chr(65 + i), 1) for i in range(np.shape(distance_matrix)[0])}\n",
    "    \n",
    "    last_dist = 0\n",
    "    while np.shape(matrix) != (1,1):\n",
    "        # recherche des coord de la distance min\n",
    "        filtered = matrix[np.nonzero(matrix)]\n",
    "        d_min = np.min(filtered)\n",
    "        min_coord = np.where(matrix == d_min)\n",
    "        min_x, min_y = min_coord[0][0], min_coord[1][0]\n",
    "        \n",
    "        # fusion des labels des séquences les plus proches\n",
    "        i = labels[min_x][0]\n",
    "        j = labels[min_y][0]\n",
    "        dist = d_min/2\n",
    "        n = labels[min_x][1]\n",
    "        if isinstance(n, int):\n",
    "            ni, nj = (n, n)\n",
    "            labels[min_x] = ('(' + i + ':' + str(dist) + ',' + j + ':' + str(dist) + ')', (ni, nj))\n",
    "        else:\n",
    "            ni, nj = n\n",
    "            labels[min_x] = ('(' + i + ':' + str(dist-last_dist) + ',' + j + ':' + str(dist) + ')', (ni, nj))\n",
    "        last_dist = dist\n",
    "\n",
    "        # update du reste des labels\n",
    "        labels = shift_keys(labels, min_y)\n",
    "\n",
    "        # calcul des distances\n",
    "        dij = (ni*matrix[min_x] + nj*matrix[min_y])/(ni + nj)\n",
    "        dij[min_x] = 0\n",
    "        matrix[min_x] = dij\n",
    "        matrix[:, min_x] = dij\n",
    "        \n",
    "        matrix = np.delete(matrix, obj=min_y, axis=0)\n",
    "        matrix = np.delete(matrix, obj=min_y, axis=1)\n",
    "    \n",
    "    return labels[0][0] + ';'"
   ]
  },
  {
   "cell_type": "code",
   "execution_count": null,
   "metadata": {},
   "outputs": [],
   "source": [
    "example = np.array([[0, 4, 8, 2],\n",
    "                    [4, 0, 8, 4],\n",
    "                    [8, 8, 0, 8],\n",
    "                    [2, 4, 8, 0],])\n",
    "\n",
    "print(UPGMA(example))"
   ]
  },
  {
   "cell_type": "markdown",
   "metadata": {},
   "source": [
    "**Exercice 8 :** Quelles sont les hypothèses faites par UPGMA ? Semblent-elles respectées dans le cas présent ?"
   ]
  },
  {
   "attachments": {},
   "cell_type": "markdown",
   "metadata": {},
   "source": [
    "**Réponse :** UPGMA a pour hypothèse principale l'ultrasymétrie de l'arbre i.e. le fait que chaque espèces de l'arbres sont à équidistance de tous leurs ancêtres communs. Cette hypothèse équivaut en phylogénétique, à supposer un taux d'évolution constant (hypothèse de l'horloge moléculaire) et que toutes les séquences ont été échantillonnées au même moment.\n",
    "\n",
    "Elles semblent respectées dans le cas présent car toutes les distances entre les espèces fournis par la matrice de distance sont des puissances de deux."
   ]
  },
  {
   "cell_type": "markdown",
   "metadata": {},
   "source": [
    "----\n",
    "## Enracinement de l'arbre\n",
    "\n",
    "Après avoir utilisé UPGMA pour réaliser votre arbre, l'enracinement s'est normalement fait au poids moyen. \n",
    "\n",
    "**Exercice 9 :** Quelle autre méthode est-il possible d'utiliser pour enraciner un arbre ? Pouvez-vous l'utilisez ici ? Si oui, afficher le nouvel arbre."
   ]
  },
  {
   "attachments": {},
   "cell_type": "markdown",
   "metadata": {},
   "source": [
    "**Réponse :** Autre que la méthode de l'hypothèse de l'horloge moléculaire, il existe la méthode du groupe externe: en incluant un groupe de séquences connues a priori comme étant externe au groupe d'intérêt, i.e. moins étroitement lié au groupe que le groupe n'est lié à lui-même, la racine se trouve alors sur la branche qui relie le groupe externe aux autres séquences."
   ]
  },
  {
   "cell_type": "markdown",
   "metadata": {},
   "source": [
    "----\n",
    "## Neighbor-joining\n",
    "\n",
    "Le neighbor-joining est un autre algorithme permettant de calculer un arbre phylogénique à partir d'une matrice de distance. Il a l'avantage de faire moins d'hypothèse qu'UPGMA sur les données (elles ne sont plus forcément ultramétrique) et il donne donc de meilleurs arbres dans presque tout les cas. Vous trouverez un example d'application de cet algorithme [ici](http://www.evolution-textbook.org/content/free/tables/Ch_27/T11_EVOW_Ch27.pdf).\n",
    "\n",
    "**Exercice 10 :** Implémenter l'algorithme du neighbor-joining, appliquer-le aux données puis enraciner l'arbre."
   ]
  },
  {
   "cell_type": "code",
   "execution_count": null,
   "metadata": {},
   "outputs": [],
   "source": [
    "def neighbour_joining(distance_matrix):\n",
    "    matrix = np.copy(distance_matrix)\n",
    "    labels = {i: chr(65 + i) for i in range(np.shape(distance_matrix)[0])}\n",
    "    \n",
    "    while np.shape(matrix) != (2,2):\n",
    "        # step 1\n",
    "        n = np.shape(matrix)[0]\n",
    "        S = np.sum(matrix, axis=1)/(n-2)\n",
    "\n",
    "        # step 2\n",
    "        min_matrix = matrix - S - S.reshape(n, 1)\n",
    "        np.fill_diagonal(min_matrix, 0)\n",
    "        \n",
    "        filtered = min_matrix[np.nonzero(min_matrix)]\n",
    "        d_min = np.min(filtered)\n",
    "        min_coord = np.where(min_matrix == d_min)\n",
    "        min_x, min_y = min_coord[0][0], min_coord[1][0]\n",
    "\n",
    "        # step 3\n",
    "        dij = matrix[min_x][min_y]/2 + (S[min_x] - S[min_y])/2\n",
    "        dji = matrix[min_x][min_y]/2 + (S[min_y] - S[min_x])/2\n",
    "\n",
    "        # step 4\n",
    "        labels[min_x] = '(' + labels[min_x] + ':' + str(dij) + ',' + labels[min_y] + ':' + str(dji) + ')'\n",
    "        labels = shift_keys(labels, min_y)\n",
    "        \n",
    "        # step 5\n",
    "        dU = (matrix[min_x] + matrix[min_y] - matrix[min_x][min_y])/2 # vérifier avec la prof pour le /2\n",
    "        matrix[min_x] = dU\n",
    "        matrix[:, min_x] = dU        \n",
    "        \n",
    "        matrix = np.delete(matrix, obj=min_y, axis=0)\n",
    "        matrix = np.delete(matrix, obj=min_y, axis=1)\n",
    "    \n",
    "    return '(' + labels[0] + ':1.0,' + labels[1] + ':' + str(matrix[0][1] - 1.0) + ')' + ';'"
   ]
  },
  {
   "cell_type": "code",
   "execution_count": null,
   "metadata": {},
   "outputs": [],
   "source": [
    "example = np.array([[0, 5,  4, 7,  6, 8],\n",
    "                    [5, 0,  7, 10, 9, 11],\n",
    "                    [4, 7,  0, 7,  6, 8],\n",
    "                    [7, 10, 7, 0,  5, 9],\n",
    "                    [6, 9,  6, 5,  0, 8],\n",
    "                    [8, 11, 8, 9,  8, 0],])\n",
    "\n",
    "\n",
    "print(neighbour_joining(example))"
   ]
  },
  {
   "cell_type": "markdown",
   "metadata": {},
   "source": [
    "----\n",
    "## Bootstrap\n",
    "\n",
    "Le bootstrap est une méthode permettant de calculer la robustesse des branches d'un arbre. Il sagit de recréer un jeu de données artificiel en tirant n positions dans l'alignement des séquences avec remise, n étant la longueur de l'alignement. On recréer un arbre à partir de ces nouvelles données puis on le compare avec l'arbre obtenu avec les données réelles. Si une branche de l'arbre réelle est présente dans l'arbre artificiel, son bootstrap augmente de 1. On répètera la procédure 100 fois afin d'avoir un score sur 100 pour chaque branche.\n",
    "\n",
    "**Exercice 11 :** Calculer le bootstrap des branches des arbres obtenus avec UPGMA et neighbor-joining."
   ]
  },
  {
   "cell_type": "code",
   "execution_count": null,
   "metadata": {},
   "outputs": [],
   "source": [
    "# À remplir"
   ]
  },
  {
   "cell_type": "markdown",
   "metadata": {},
   "source": [
    "----\n",
    "## Conclusion\n",
    "\n",
    "**Exercice 12 :** Quelles sont vos conclusions par rapport à l'arbre phylogénique de _smilodon_, _homotherium_ et _M. trumani_ ? Comparer les deux méthodes. Comment expliquer les caractéristiques morphologiques similaires entre ces trois espèces ? Une réponse détaillée est attendue."
   ]
  },
  {
   "attachments": {},
   "cell_type": "markdown",
   "metadata": {
    "collapsed": true
   },
   "source": [
    "**Réponse :**"
   ]
  }
 ],
 "metadata": {
  "kernelspec": {
   "display_name": "Python 3",
   "language": "python",
   "name": "python3"
  },
  "language_info": {
   "codemirror_mode": {
    "name": "ipython",
    "version": 3
   },
   "file_extension": ".py",
   "mimetype": "text/x-python",
   "name": "python",
   "nbconvert_exporter": "python",
   "pygments_lexer": "ipython3",
   "version": "3.10.7"
  },
  "vscode": {
   "interpreter": {
    "hash": "916dbcbb3f70747c44a77c7bcd40155683ae19c65e1c03b4aa3499c5328201f1"
   }
  }
 },
 "nbformat": 4,
 "nbformat_minor": 2
}
